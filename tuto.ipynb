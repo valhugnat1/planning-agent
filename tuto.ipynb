{
 "cells": [
  {
   "cell_type": "code",
   "execution_count": 1,
   "id": "a7ae5c7f",
   "metadata": {},
   "outputs": [],
   "source": [
    "import getpass\n",
    "import os\n",
    "\n",
    "\n",
    "def _set_env(var: str):\n",
    "    if not os.environ.get(var):\n",
    "        os.environ[var] = getpass.getpass(f\"{var}: \")\n",
    "\n",
    "\n",
    "_set_env(\"OPENAI_API_KEY\")\n",
    "_set_env(\"TAVILY_API_KEY\")"
   ]
  },
  {
   "cell_type": "code",
   "execution_count": 2,
   "id": "43d5cf41",
   "metadata": {},
   "outputs": [],
   "source": [
    "from langchain_community.tools.tavily_search import TavilySearchResults\n",
    "\n",
    "tools = [TavilySearchResults(max_results=3)]"
   ]
  },
  {
   "cell_type": "code",
   "execution_count": 5,
   "id": "f9b03c38",
   "metadata": {},
   "outputs": [],
   "source": [
    "from langchain import hub\n",
    "from langchain_openai import ChatOpenAI\n",
    "\n",
    "from langgraph.prebuilt import create_react_agent\n",
    "\n",
    "# Choose the LLM that will drive the agent\n",
    "llm = ChatOpenAI(model=\"gpt-4o\")\n",
    "prompt = \"You are a helpful assistant.\"\n",
    "agent_executor = create_react_agent(llm, tools, prompt=prompt)"
   ]
  },
  {
   "cell_type": "code",
   "execution_count": 7,
   "id": "ce60aba5",
   "metadata": {},
   "outputs": [
    {
     "data": {
      "text/plain": [
       "{'messages': [HumanMessage(content='who is the winnner of the 2024 us open', additional_kwargs={}, response_metadata={}, id='8ddf13de-bf21-49a5-bf81-a3cc70056c79'),\n",
       "  AIMessage(content='', additional_kwargs={'tool_calls': [{'id': 'call_Jy9859ph5SJHiYlxRjoA1E3e', 'function': {'arguments': '{\"query\":\"2024 US Open winner\"}', 'name': 'tavily_search_results_json'}, 'type': 'function'}], 'refusal': None}, response_metadata={'token_usage': {'completion_tokens': 23, 'prompt_tokens': 98, 'total_tokens': 121, 'completion_tokens_details': {'accepted_prediction_tokens': 0, 'audio_tokens': 0, 'reasoning_tokens': 0, 'rejected_prediction_tokens': 0}, 'prompt_tokens_details': {'audio_tokens': 0, 'cached_tokens': 0}}, 'model_name': 'gpt-4o-2024-08-06', 'system_fingerprint': 'fp_d8864f8b6b', 'id': 'chatcmpl-BRwOXiNY3SeW56KowCwq2z9PkAhQo', 'finish_reason': 'tool_calls', 'logprobs': None}, id='run-34130f4e-9ac9-4a2b-aeb3-3f5727e17c31-0', tool_calls=[{'name': 'tavily_search_results_json', 'args': {'query': '2024 US Open winner'}, 'id': 'call_Jy9859ph5SJHiYlxRjoA1E3e', 'type': 'tool_call'}], usage_metadata={'input_tokens': 98, 'output_tokens': 23, 'total_tokens': 121, 'input_token_details': {'audio': 0, 'cache_read': 0}, 'output_token_details': {'audio': 0, 'reasoning': 0}}),\n",
       "  ToolMessage(content='[{\"title\": \"2024 U.S. Open (golf) - Wikipedia\", \"url\": \"https://en.wikipedia.org/wiki/2024_U.S._Open_(golf)\", \"content\": \"The 2024 United States Open Championship was the 124th U.S. Open, the national open golf championship of the United States. It was a 72-hole stroke play tournament played from June 13–16 on course number 2 of Pinehurst Resort in Pinehurst, North Carolina. It is the 1,000th USGA staged championship in the organization\\'s history.[2] Bryson DeChambeau won the tournament to claim his second U.S. Open title.[3][4]\\\\nCourse layout[edit]\\\\nMain article: Pinehurst Resort\\\\nCourse No. 2 [...] ^ Gottfried, Greg; Powers, Christopher; Coffin, Jay (June 5, 2024). \\\\\"U.S. Open 2024: Everything you need to know about this year\\'s major at Pinehurst No. 2\\\\\". Golf Digest. Retrieved June 7, 2024.\\\\n^ a b \\\\\"Bryson DeChambeau wins 124th U.S. Open, evokes memory of Payne Stewart\\\\\". PGA Tour. June 17, 2024. Retrieved June 17, 2024.\\\\n^ \\\\\"U.S. Open final round live updates, leaderboard: Bryson DeChambeau fends off Rory McIlroy to win second major\\\\\". Yahoo Sports. June 16, 2024. Retrieved June 16, 2024. [...] ^ Bradshaw, Joe (June 16, 2024). \\\\\"US Open 2024: Bryson DeChambeau beats Rory McIlroy for second major\\\\\". BBC Sport. Retrieved June 17, 2024.\\\\n^ Hirsh, Jack (June 16, 2024). \\\\\"Bryson DeChambeau wins U.S. Open after Rory McIlroy\\'s late collapse\\\\\". Golf Magazine. Retrieved June 17, 2024.\\\\n^ \\\\\"U.S. Open 2024 – PGA Tour Golf Leaderboard\\\\\". ESPN. Archived from the original on June 16, 2024. Retrieved June 16, 2024.\\\\nExternal links[edit]\\\\nOfficial website\\\\nUnited States Golf Association\\\\nvte\", \"score\": 0.9065293}, {\"title\": \"2024 US Open (tennis) - Wikipedia\", \"url\": \"https://en.wikipedia.org/wiki/2024_US_Open_(tennis)\", \"content\": \"In the United States, the 2024 US Open was the tenth year in a row under an 11-year, $825 million contract with ESPN, in which the broadcaster holds exclusive rights to the entire tournament and the US Open Series.[5][6][7][8]\\\\nSingles players[edit]\\\\nMen\\'s singles\\\\nChampion    Runner-up\\\\nWomen\\'s singles\\\\nChampion    Runner-up\\\\nEvents[edit]\\\\nSee also: 2024 US Open – Day-by-day summaries\\\\nMen\\'s singles[edit]\\\\nMain article: 2024 US Open – Men\\'s singles\\\\n Jannik Sinner def.  Taylor Fritz, 6–3, 6–4, 7–5 [...] Jump to content\\\\nMain menu\\\\nSearch\\\\nDonate\\\\nCreate account\\\\nLog in\\\\nPersonal tools\\\\nToggle the table of contents\\\\n2024 US Open (tennis)\\\\n22 languages\\\\nArticle\\\\nTalk\\\\nRead\\\\nEdit\\\\nView history\\\\nTools\\\\nFrom Wikipedia, the free encyclopedia\\\\n2024 US Open\\\\nDate    August 26 – September 8\\\\nEdition 144th\\\\nCategory    Grand Slam (ITF)\\\\nDraw    128S/64D\\\\nPrize\\xa0money $75,000,000\\\\nSurface Hard\\\\nLocation    New York City, United States\\\\nVenue   USTA Billie Jean King National Tennis Center\\\\nChampions\\\\nMen\\'s singles\\\\n Jannik Sinner [...] The 2024 US Open was the 144th edition of tennis\\' US Open and the fourth and final Grand Slam event of the year. It was held on outdoor hard courts at the USTA Billie Jean King National Tennis Center in New York City. Novak Djokovic and Coco Gauff were the men\\'s and women\\'s singles defending champions, respectively, but Djokovic lost in the third round to Alexei Popyrin and Gauff lost in the fourth round to Emma Navarro. It began with the preliminary rounds from August 19 to 22, followed by the\", \"score\": 0.8993429}, {\"title\": \"Jannik Sinner WINS the 2024 US Open - YouTube\", \"url\": \"https://www.youtube.com/watch?v=qHCouJ8vYls\", \"content\": \"Jannik Sinner WINS the 2024 US Open 🏆 \\\\n US Open Tennis Championships \\\\n 19554 likes \\\\n 522688 views \\\\n 8 Sep 2024 \\\\n The moment Jannik Sinner beat Taylor Fritz to win his second Grand Slam title at the 2024 US Open.\\\\n\\\\nDon\\'t miss a moment of the US Open! Subscribe now: https://bit.ly/2Pdr81i [...] The 2024 US Open main draw runs from August 26 - September 8 in New York City at the USTA Billie Jean King National Tennis Center. The tournament takes place for the 144th time and is the fourth and final Grand Slam of the year. Last year, Serbia\\'s Novak Djokovic and United States\\' Coco Gauff claimed the men\\'s and women\\'s singles titles. It was Djokovic’s 24th Grand Slam title and Gauff’s first Grand Slam title. This year, at the US Open, we’re set for another spectacular tournament as the [...] world’s best tennis players head to New York. Look out for highlights, extended highlights, full matches, press conferences, on-court interviews, hot shots, compilations and more!\", \"score\": 0.8790744}]', name='tavily_search_results_json', id='ae22f257-ea54-4cd8-bbcc-a5a5d869af67', tool_call_id='call_Jy9859ph5SJHiYlxRjoA1E3e', artifact={'query': '2024 US Open winner', 'follow_up_questions': None, 'answer': None, 'images': [], 'results': [{'url': 'https://en.wikipedia.org/wiki/2024_U.S._Open_(golf)', 'title': '2024 U.S. Open (golf) - Wikipedia', 'content': 'The 2024 United States Open Championship was the 124th U.S. Open, the national open golf championship of the United States. It was a 72-hole stroke play tournament played from June 13–16 on course number 2 of Pinehurst Resort in Pinehurst, North Carolina. It is the 1,000th USGA staged championship in the organization\\'s history.[2] Bryson DeChambeau won the tournament to claim his second U.S. Open title.[3][4]\\nCourse layout[edit]\\nMain article: Pinehurst Resort\\nCourse No. 2 [...] ^ Gottfried, Greg; Powers, Christopher; Coffin, Jay (June 5, 2024). \"U.S. Open 2024: Everything you need to know about this year\\'s major at Pinehurst No. 2\". Golf Digest. Retrieved June 7, 2024.\\n^ a b \"Bryson DeChambeau wins 124th U.S. Open, evokes memory of Payne Stewart\". PGA Tour. June 17, 2024. Retrieved June 17, 2024.\\n^ \"U.S. Open final round live updates, leaderboard: Bryson DeChambeau fends off Rory McIlroy to win second major\". Yahoo Sports. June 16, 2024. Retrieved June 16, 2024. [...] ^ Bradshaw, Joe (June 16, 2024). \"US Open 2024: Bryson DeChambeau beats Rory McIlroy for second major\". BBC Sport. Retrieved June 17, 2024.\\n^ Hirsh, Jack (June 16, 2024). \"Bryson DeChambeau wins U.S. Open after Rory McIlroy\\'s late collapse\". Golf Magazine. Retrieved June 17, 2024.\\n^ \"U.S. Open 2024 – PGA Tour Golf Leaderboard\". ESPN. Archived from the original on June 16, 2024. Retrieved June 16, 2024.\\nExternal links[edit]\\nOfficial website\\nUnited States Golf Association\\nvte', 'score': 0.9065293, 'raw_content': None}, {'url': 'https://en.wikipedia.org/wiki/2024_US_Open_(tennis)', 'title': '2024 US Open (tennis) - Wikipedia', 'content': \"In the United States, the 2024 US Open was the tenth year in a row under an 11-year, $825 million contract with ESPN, in which the broadcaster holds exclusive rights to the entire tournament and the US Open Series.[5][6][7][8]\\nSingles players[edit]\\nMen's singles\\nChampion    Runner-up\\nWomen's singles\\nChampion    Runner-up\\nEvents[edit]\\nSee also: 2024 US Open – Day-by-day summaries\\nMen's singles[edit]\\nMain article: 2024 US Open – Men's singles\\n Jannik Sinner def.  Taylor Fritz, 6–3, 6–4, 7–5 [...] Jump to content\\nMain menu\\nSearch\\nDonate\\nCreate account\\nLog in\\nPersonal tools\\nToggle the table of contents\\n2024 US Open (tennis)\\n22 languages\\nArticle\\nTalk\\nRead\\nEdit\\nView history\\nTools\\nFrom Wikipedia, the free encyclopedia\\n2024 US Open\\nDate    August 26 – September 8\\nEdition 144th\\nCategory    Grand Slam (ITF)\\nDraw    128S/64D\\nPrize\\xa0money $75,000,000\\nSurface Hard\\nLocation    New York City, United States\\nVenue   USTA Billie Jean King National Tennis Center\\nChampions\\nMen's singles\\n Jannik Sinner [...] The 2024 US Open was the 144th edition of tennis' US Open and the fourth and final Grand Slam event of the year. It was held on outdoor hard courts at the USTA Billie Jean King National Tennis Center in New York City. Novak Djokovic and Coco Gauff were the men's and women's singles defending champions, respectively, but Djokovic lost in the third round to Alexei Popyrin and Gauff lost in the fourth round to Emma Navarro. It began with the preliminary rounds from August 19 to 22, followed by the\", 'score': 0.8993429, 'raw_content': None}, {'url': 'https://www.youtube.com/watch?v=qHCouJ8vYls', 'title': 'Jannik Sinner WINS the 2024 US Open - YouTube', 'content': \"Jannik Sinner WINS the 2024 US Open 🏆 \\n US Open Tennis Championships \\n 19554 likes \\n 522688 views \\n 8 Sep 2024 \\n The moment Jannik Sinner beat Taylor Fritz to win his second Grand Slam title at the 2024 US Open.\\n\\nDon't miss a moment of the US Open! Subscribe now: https://bit.ly/2Pdr81i [...] The 2024 US Open main draw runs from August 26 - September 8 in New York City at the USTA Billie Jean King National Tennis Center. The tournament takes place for the 144th time and is the fourth and final Grand Slam of the year. Last year, Serbia's Novak Djokovic and United States' Coco Gauff claimed the men's and women's singles titles. It was Djokovic’s 24th Grand Slam title and Gauff’s first Grand Slam title. This year, at the US Open, we’re set for another spectacular tournament as the [...] world’s best tennis players head to New York. Look out for highlights, extended highlights, full matches, press conferences, on-court interviews, hot shots, compilations and more!\", 'score': 0.8790744, 'raw_content': None}], 'response_time': 1.35}),\n",
       "  AIMessage(content=\"The winner of the 2024 US Open in tennis (men's singles) was Jannik Sinner, who defeated Taylor Fritz. You can find more details about the tournament on [Wikipedia](https://en.wikipedia.org/wiki/2024_US_Open_(tennis)).\\n\\nFor golf, the winner of the 2024 U.S. Open was Bryson DeChambeau. More information can be accessed [here](https://en.wikipedia.org/wiki/2024_U.S._Open_(golf)).\", additional_kwargs={'refusal': None}, response_metadata={'token_usage': {'completion_tokens': 104, 'prompt_tokens': 1367, 'total_tokens': 1471, 'completion_tokens_details': {'accepted_prediction_tokens': 0, 'audio_tokens': 0, 'reasoning_tokens': 0, 'rejected_prediction_tokens': 0}, 'prompt_tokens_details': {'audio_tokens': 0, 'cached_tokens': 0}}, 'model_name': 'gpt-4o-2024-08-06', 'system_fingerprint': 'fp_d8864f8b6b', 'id': 'chatcmpl-BRwOZQupSKa8e7T3wPXinma5Am2dE', 'finish_reason': 'stop', 'logprobs': None}, id='run-7e7dffea-1a45-4191-be94-25935eab1a5d-0', usage_metadata={'input_tokens': 1367, 'output_tokens': 104, 'total_tokens': 1471, 'input_token_details': {'audio': 0, 'cache_read': 0}, 'output_token_details': {'audio': 0, 'reasoning': 0}})]}"
      ]
     },
     "execution_count": 7,
     "metadata": {},
     "output_type": "execute_result"
    }
   ],
   "source": [
    "agent_executor.invoke({\"messages\": [(\"user\", \"who is the winnner of the 2024 us open\")]})"
   ]
  },
  {
   "cell_type": "code",
   "execution_count": 8,
   "id": "3ba73018",
   "metadata": {},
   "outputs": [],
   "source": [
    "import operator\n",
    "from typing import Annotated, List, Tuple\n",
    "from typing_extensions import TypedDict\n",
    "\n",
    "\n",
    "class PlanExecute(TypedDict):\n",
    "    input: str\n",
    "    plan: List[str]\n",
    "    past_steps: Annotated[List[Tuple], operator.add]\n",
    "    response: str"
   ]
  },
  {
   "cell_type": "code",
   "execution_count": null,
   "id": "04131f5c",
   "metadata": {},
   "outputs": [],
   "source": [
    "from pydantic import BaseModel, Field\n",
    "\n",
    "\n",
    "class Plan(BaseModel):\n",
    "    \"\"\"Plan to follow in future\"\"\"\n",
    "\n",
    "    steps: List[str] = Field(\n",
    "        description=\"different steps to follow, should be in sorted order\"\n",
    "    )"
   ]
  },
  {
   "cell_type": "code",
   "execution_count": 10,
   "id": "502ef72e",
   "metadata": {},
   "outputs": [],
   "source": [
    "from langchain_core.prompts import ChatPromptTemplate\n",
    "\n",
    "planner_prompt = ChatPromptTemplate.from_messages(\n",
    "    [\n",
    "        (\n",
    "            \"system\",\n",
    "            \"\"\"For the given objective, come up with a simple step by step plan. \\\n",
    "This plan should involve individual tasks, that if executed correctly will yield the correct answer. Do not add any superfluous steps. \\\n",
    "The result of the final step should be the final answer. Make sure that each step has all the information needed - do not skip steps.\"\"\",\n",
    "        ),\n",
    "        (\"placeholder\", \"{messages}\"),\n",
    "    ]\n",
    ")\n",
    "planner = planner_prompt | ChatOpenAI(\n",
    "    model=\"gpt-4o\", temperature=0\n",
    ").with_structured_output(Plan)"
   ]
  },
  {
   "cell_type": "code",
   "execution_count": 11,
   "id": "2b8af700",
   "metadata": {},
   "outputs": [
    {
     "data": {
      "text/plain": [
       "Plan(steps=['Identify the current year to determine the most recent Australia Open winner.', 'Research the winner of the Australia Open for the current year.', 'Find the hometown of the identified winner from the Australia Open.', 'The hometown identified in the previous step is the answer.'])"
      ]
     },
     "execution_count": 11,
     "metadata": {},
     "output_type": "execute_result"
    }
   ],
   "source": [
    "planner.invoke(\n",
    "    {\n",
    "        \"messages\": [\n",
    "            (\"user\", \"what is the hometown of the current Australia open winner?\")\n",
    "        ]\n",
    "    }\n",
    ")"
   ]
  },
  {
   "cell_type": "code",
   "execution_count": null,
   "id": "58f65ddc",
   "metadata": {},
   "outputs": [],
   "source": [
    "from typing import Union\n",
    "\n",
    "\n",
    "class Response(BaseModel):\n",
    "    \"\"\"Response to user.\"\"\"\n",
    "\n",
    "    response: str\n",
    "\n",
    "\n",
    "class Act(BaseModel):\n",
    "    \"\"\"Action to perform.\"\"\"\n",
    "\n",
    "    action: Union[Response, Plan] = Field(\n",
    "        description=\"Action to perform. If you want to respond to user, use Response. \"\n",
    "        \"If you need to further use tools to get the answer, use Plan.\"\n",
    "    )\n",
    "\n",
    "\n",
    "replanner_prompt = ChatPromptTemplate.from_template(\n",
    "    \"\"\"For the given objective, come up with a simple step by step plan. \\\n",
    "This plan should involve individual tasks, that if executed correctly will yield the correct answer. Do not add any superfluous steps. \\\n",
    "The result of the final step should be the final answer. Make sure that each step has all the information needed - do not skip steps.\n",
    "\n",
    "Your objective was this:\n",
    "{input}\n",
    "\n",
    "Your original plan was this:\n",
    "{plan}\n",
    "\n",
    "You have currently done the follow steps:\n",
    "{past_steps}\n",
    "\n",
    "Update your plan accordingly. If no more steps are needed and you can return to the user, then respond with that. Otherwise, fill out the plan. Only add steps to the plan that still NEED to be done. Do not return previously done steps as part of the plan.\"\"\"\n",
    ")\n",
    "\n",
    "\n",
    "replanner = replanner_prompt | ChatOpenAI(\n",
    "    model=\"gpt-4o\", temperature=0\n",
    ").with_structured_output(Act)"
   ]
  },
  {
   "cell_type": "code",
   "execution_count": 13,
   "id": "7e71e79b",
   "metadata": {},
   "outputs": [],
   "source": [
    "from typing import Literal\n",
    "from langgraph.graph import END\n",
    "\n",
    "\n",
    "async def execute_step(state: PlanExecute):\n",
    "    plan = state[\"plan\"]\n",
    "    plan_str = \"\\n\".join(f\"{i+1}. {step}\" for i, step in enumerate(plan))\n",
    "    task = plan[0]\n",
    "    task_formatted = f\"\"\"For the following plan:\n",
    "{plan_str}\\n\\nYou are tasked with executing step {1}, {task}.\"\"\"\n",
    "    agent_response = await agent_executor.ainvoke(\n",
    "        {\"messages\": [(\"user\", task_formatted)]}\n",
    "    )\n",
    "    return {\n",
    "        \"past_steps\": [(task, agent_response[\"messages\"][-1].content)],\n",
    "    }\n",
    "\n",
    "\n",
    "async def plan_step(state: PlanExecute):\n",
    "    plan = await planner.ainvoke({\"messages\": [(\"user\", state[\"input\"])]})\n",
    "    return {\"plan\": plan.steps}\n",
    "\n",
    "\n",
    "async def replan_step(state: PlanExecute):\n",
    "    output = await replanner.ainvoke(state)\n",
    "    if isinstance(output.action, Response):\n",
    "        return {\"response\": output.action.response}\n",
    "    else:\n",
    "        return {\"plan\": output.action.steps}\n",
    "\n",
    "\n",
    "def should_end(state: PlanExecute):\n",
    "    if \"response\" in state and state[\"response\"]:\n",
    "        return END\n",
    "    else:\n",
    "        return \"agent\""
   ]
  },
  {
   "cell_type": "code",
   "execution_count": 14,
   "id": "4ad89fb4",
   "metadata": {},
   "outputs": [],
   "source": [
    "from langgraph.graph import StateGraph, START\n",
    "\n",
    "workflow = StateGraph(PlanExecute)\n",
    "\n",
    "# Add the plan node\n",
    "workflow.add_node(\"planner\", plan_step)\n",
    "\n",
    "# Add the execution step\n",
    "workflow.add_node(\"agent\", execute_step)\n",
    "\n",
    "# Add a replan node\n",
    "workflow.add_node(\"replan\", replan_step)\n",
    "\n",
    "workflow.add_edge(START, \"planner\")\n",
    "\n",
    "# From plan we go to agent\n",
    "workflow.add_edge(\"planner\", \"agent\")\n",
    "\n",
    "# From agent, we replan\n",
    "workflow.add_edge(\"agent\", \"replan\")\n",
    "\n",
    "workflow.add_conditional_edges(\n",
    "    \"replan\",\n",
    "    # Next, we pass in the function that will determine which node is called next.\n",
    "    should_end,\n",
    "    [\"agent\", END],\n",
    ")\n",
    "\n",
    "# Finally, we compile it!\n",
    "# This compiles it into a LangChain Runnable,\n",
    "# meaning you can use it as you would any other runnable\n",
    "app = workflow.compile()"
   ]
  },
  {
   "cell_type": "code",
   "execution_count": 15,
   "id": "29cff00a",
   "metadata": {},
   "outputs": [
    {
     "data": {
      "image/png": "[encoded data removed]",
      "text/plain": [
       "<IPython.core.display.Image object>"
      ]
     },
     "metadata": {},
     "output_type": "display_data"
    }
   ],
   "source": [
    "from IPython.display import Image, display\n",
    "\n",
    "display(Image(app.get_graph(xray=True).draw_mermaid_png()))"
   ]
  },
  {
   "cell_type": "code",
   "execution_count": 16,
   "id": "71576c9a",
   "metadata": {},
   "outputs": [
    {
     "name": "stdout",
     "output_type": "stream",
     "text": [
      "{'plan': [\"Identify the winner of the men's 2024 Australian Open.\", \"Research the winner's personal background to find their hometown.\", 'Verify the information from a reliable source to ensure accuracy.', \"Conclude with the hometown of the men's 2024 Australian Open winner.\"]}\n",
      "{'past_steps': [(\"Identify the winner of the men's 2024 Australian Open.\", \"The winner of the men's singles title at the 2024 Australian Open is Jannik Sinner.\")]}\n",
      "{'plan': [\"Research Jannik Sinner's personal background to find his hometown.\", 'Verify the information from a reliable source to ensure accuracy.', \"Conclude with the hometown of the men's 2024 Australian Open winner.\"]}\n",
      "{'past_steps': [(\"Research Jannik Sinner's personal background to find his hometown.\", \"Jannik Sinner's hometown is Sexten, a town located in the region of South Tyrol in northern Italy.\")]}\n",
      "{'response': \"The plan has been successfully completed. The hometown of the men's 2024 Australian Open winner, Jannik Sinner, is Sexten, located in the region of South Tyrol in northern Italy.\"}\n"
     ]
    }
   ],
   "source": [
    "config = {\"recursion_limit\": 10}\n",
    "inputs = {\"input\": \"what is the hometown of the mens 2024 Australia open winner?\"}\n",
    "async for event in app.astream(inputs, config=config):\n",
    "    for k, v in event.items():\n",
    "        if k != \"__end__\":\n",
    "            print(v)"
   ]
  },
  {
   "cell_type": "code",
   "execution_count": 2,
   "id": "1de4978d",
   "metadata": {},
   "outputs": [
    {
     "name": "stdout",
     "output_type": "stream",
     "text": [
      "Hello! I'm just a virtual assistant, so I don't have feelings, but I'm here and ready to help! How are you doing today? 😊\n",
      "ChatCompletion(id='7f4584e6-90af-4392-ab3a-6e4d48b7abc0', choices=[Choice(finish_reason='stop', index=0, logprobs=None, message=ChatCompletionMessage(content=\"Hello! I'm just a virtual assistant, so I don't have feelings, but I'm here and ready to help! How are you doing today? 😊\", refusal=None, role='assistant', annotations=None, audio=None, function_call=None, tool_calls=None, reasoning_content='Okay, the user greeted me with \"Hello, how are you?\" I should respond politely. I need to acknowledge their greeting and ask how they\\'re doing. Let me make sure the response is friendly and open-ended. Maybe something like, \"Hello! I\\'m just a virtual assistant, so I don\\'t have feelings, but I\\'m here and ready to help! How are you doing today?\" That sounds good. It\\'s polite, acknowledges their question, and invites them to share their own status. I should check if there\\'s anything else needed, but this seems like a solid response.'))], created=1746440189, model='accounts/fireworks/models/qwen3-30b-a3b', object='chat.completion', service_tier=None, system_fingerprint=None, usage=CompletionUsage(completion_tokens=157, prompt_tokens=14, total_tokens=171, completion_tokens_details=None, prompt_tokens_details=None))\n"
     ]
    }
   ],
   "source": [
    "import openai, os\n",
    "from dotenv import load_dotenv\n",
    "\n",
    "load_dotenv()\n",
    "\n",
    "client = openai.OpenAI(\n",
    "    api_key=os.getenv(\"FIREWORKS_API_KEY\"),\n",
    "    base_url=\"http://localhost:8000\"\n",
    "    # base_url=\"https://api.fireworks.ai/inference/v1\"\n",
    ")\n",
    "\n",
    "response = client.chat.completions.create(\n",
    "    model=\"accounts/fireworks/models/qwen3-30b-a3b\",\n",
    "    messages=[\n",
    "        {\"role\": \"user\", \"content\": \"Hello, how are you?\"}\n",
    "    ],\n",
    "    max_tokens=16384,\n",
    "    top_p=1,\n",
    "    temperature=0.6,\n",
    "    frequency_penalty=0,\n",
    "    presence_penalty=0,\n",
    "    extra_body={\"top_k\": 40}  # Needed because top_k is not standard in OpenAI API\n",
    ")\n",
    "\n",
    "print(response.choices[0].message.content)\n",
    "print(response)\n",
    "\n"
   ]
  },
  {
   "cell_type": "code",
   "execution_count": 3,
   "id": "dff4479d",
   "metadata": {},
   "outputs": [],
   "source": [
    "\n",
    "# 1. Define the function\n",
    "def add_numbers(a: float, b: float):\n",
    "    \"\"\"Adds two numbers and returns the result.\"\"\"\n",
    "    return a + b\n",
    "\n",
    "# Define a mapping of function names to function objects\n",
    "available_functions = {\n",
    "    \"add_numbers\": add_numbers,\n",
    "}\n",
    "\n",
    "# 2. Define the function schema\n",
    "tools = [\n",
    "    {\n",
    "        \"type\": \"function\",\n",
    "        \"function\": {\n",
    "            \"name\": \"add_numbers\",\n",
    "            \"description\": \"Adds two numbers.\",\n",
    "            \"parameters\": {\n",
    "                \"type\": \"object\",\n",
    "                \"properties\": {\n",
    "                    \"a\": {\n",
    "                        \"type\": \"number\",\n",
    "                        \"description\": \"The first number to add.\",\n",
    "                    },\n",
    "                    \"b\": {\n",
    "                        \"type\": \"number\",\n",
    "                        \"description\": \"The second number to add.\",\n",
    "                    },\n",
    "                },\n",
    "                \"required\": [\"a\", \"b\"],\n",
    "            },\n",
    "        },\n",
    "    }\n",
    "]\n"
   ]
  },
  {
   "cell_type": "code",
   "execution_count": 4,
   "id": "4d778d14",
   "metadata": {},
   "outputs": [
    {
     "name": "stdout",
     "output_type": "stream",
     "text": [
      "ChatCompletionMessage(content=None, refusal=None, role='assistant', annotations=None, audio=None, function_call=None, tool_calls=[ChatCompletionMessageToolCall(id='call_95838336194f42bca990ad46', function=Function(arguments='{\"a\": 15, \"b\": 27}', name='add_numbers'), type='function')], reasoning_content='Okay, the user is asking what 15 plus 27 is. Let me think. The question is straightforward, just adding two numbers. The tools provided include a function called add_numbers which takes two parameters, a and b. So I need to call that function with 15 and 27 as the arguments. The parameters are numbers, so I should make sure they\\'re correctly formatted as numbers in the JSON. Let me check the function signature again. The function\\'s parameters are \"a\" and \"b\", both numbers. The user\\'s question is a simple addition, so there\\'s no need for any other functions. I\\'ll generate the tool call with the name add_numbers and the arguments a=15 and b=27.')\n"
     ]
    }
   ],
   "source": [
    "import openai\n",
    "import os\n",
    "import json\n",
    "from dotenv import load_dotenv\n",
    "\n",
    "load_dotenv()\n",
    "\n",
    "client = openai.OpenAI(\n",
    "    api_key=\"fake\",\n",
    "    base_url=\"http://localhost:8000\",    \n",
    "    # api_key=os.getenv(\"FIREWORKS_API_KEY\"),\n",
    "    # base_url=\"https://api.fireworks.ai/inference/v1\"\n",
    "    # base_url=\"https://openrouter.ai/api/v1\",\n",
    "    # api_key=os.getenv(\"OPEN_ROUTER_KEY\"),\n",
    ")\n",
    "\n",
    "# 3. Include the function schema in the API call\n",
    "\n",
    "\n",
    "# Initial message\n",
    "messages = [{\"role\": \"user\", \"content\": \"What is 15 + 27?\"}]\n",
    "\n",
    "response = client.chat.completions.create(\n",
    "    model=\"accounts/fireworks/models/qwen3-30b-a3b\", # Or a function-calling capable model if available and different\n",
    "    # model=\"qwen/qwen3-30b-a3b\",\n",
    "    messages=messages,\n",
    "    tools=tools, # Add the tools parameter here\n",
    "    tool_choice=\"auto\", # 'auto' lets the model decide whether to call a function\n",
    "    max_tokens=16384,\n",
    "    top_p=1,\n",
    "    temperature=0.6,\n",
    "    frequency_penalty=0,\n",
    "    presence_penalty=0,\n",
    "    extra_body={\"top_k\": 40}\n",
    ")\n",
    "\n",
    "# 4. Process the model's response\n",
    "response_message = response.choices[0].message\n",
    "\n",
    "# Add the assistant's response to messages for potential follow-up turns\n",
    "messages.append(response_message)\n",
    "print(response_message)\n"
   ]
  },
  {
   "cell_type": "code",
   "execution_count": 21,
   "id": "62b41dbe",
   "metadata": {},
   "outputs": [
    {
     "name": "stdout",
     "output_type": "stream",
     "text": [
      "\n",
      "\n",
      "Model is making a function call...\n",
      "Function: calculate\n",
      "Model is making a function call...\n",
      "\n",
      "\n",
      "Function call arguments: {\"operation\": \"add\", \"a\": 15, \"b\": 27}\n",
      "Function result: 42\n"
     ]
    }
   ],
   "source": [
    "import openai\n",
    "import os\n",
    "import json\n",
    "from dotenv import load_dotenv\n",
    "\n",
    "# Load environment variables\n",
    "load_dotenv()\n",
    "\n",
    "# Initialize OpenAI client\n",
    "client = openai.OpenAI(\n",
    "    api_key=\"fake\",\n",
    "    base_url=\"http://localhost:8000\",\n",
    "    # api_key=os.getenv(\"FIREWORKS_API_KEY\"),\n",
    "    # base_url=\"https://api.fireworks.ai/inference/v1\"\n",
    "    # base_url=\"https://openrouter.ai/api/v1\",\n",
    "    # api_key=os.getenv(\"OPEN_ROUTER_KEY\"),\n",
    ")\n",
    "\n",
    "# Define tools (function definitions)\n",
    "tools = [\n",
    "    {\n",
    "        \"type\": \"function\",\n",
    "        \"function\": {\n",
    "            \"name\": \"calculate\",\n",
    "            \"description\": \"Calculate the result of a mathematical operation\",\n",
    "            \"parameters\": {\n",
    "                \"type\": \"object\",\n",
    "                \"properties\": {\n",
    "                    \"operation\": {\n",
    "                        \"type\": \"string\",\n",
    "                        \"description\": \"The mathematical operation to perform\",\n",
    "                        \"enum\": [\"add\", \"subtract\", \"multiply\", \"divide\"]\n",
    "                    },\n",
    "                    \"a\": {\n",
    "                        \"type\": \"number\",\n",
    "                        \"description\": \"The first number\"\n",
    "                    },\n",
    "                    \"b\": {\n",
    "                        \"type\": \"number\",\n",
    "                        \"description\": \"The second number\"\n",
    "                    }\n",
    "                },\n",
    "                \"required\": [\"operation\", \"a\", \"b\"]\n",
    "            }\n",
    "        }\n",
    "    }\n",
    "]\n",
    "\n",
    "# Initial message\n",
    "messages = [{\"role\": \"user\", \"content\": \"What is 15 + 27?\"}]\n",
    "\n",
    "# Create a streaming chat completion\n",
    "stream = client.chat.completions.create(\n",
    "    model=\"accounts/fireworks/models/qwen3-30b-a3b\",  # Or a function-calling capable model\n",
    "    messages=messages,\n",
    "    tools=tools,\n",
    "    tool_choice=\"auto\",  # 'auto' lets the model decide whether to call a function\n",
    "    max_tokens=16384,\n",
    "    top_p=1,\n",
    "    temperature=0.6,\n",
    "    frequency_penalty=0,\n",
    "    presence_penalty=0,\n",
    "    extra_body={\"top_k\": 40},\n",
    "    stream=True  # Enable streaming\n",
    ")\n",
    "\n",
    "# Process the streaming response\n",
    "collected_messages = []\n",
    "function_call_content = \"\"\n",
    "is_function_call = False\n",
    "\n",
    "for chunk in stream:\n",
    "    # print (chunk)\n",
    "    # Check if this chunk contains a function call\n",
    "    if chunk.choices[0].delta.tool_calls:\n",
    "        is_function_call = True\n",
    "        # Get the first tool call (if it's the first chunk with a tool call)\n",
    "        if function_call_content == \"\":\n",
    "            print(\"Model is making a function call...\")\n",
    "        \n",
    "        # Extract function call data from this chunk\n",
    "        tool_call = chunk.choices[0].delta.tool_calls[0]\n",
    "        \n",
    "        # If this chunk contains function name\n",
    "        if tool_call.function.name:\n",
    "            function_name = tool_call.function.name\n",
    "            print(f\"Function: {function_name}\")\n",
    "        \n",
    "        # If this chunk contains function arguments (partial or complete)\n",
    "        if tool_call.function.arguments:\n",
    "            function_call_content += tool_call.function.arguments\n",
    "    \n",
    "    # If it's a regular text chunk\n",
    "    elif chunk.choices[0].delta.content:\n",
    "        content = chunk.choices[0].delta.content\n",
    "        print(content, end=\"\", flush=True)\n",
    "        collected_messages.append(content)\n",
    "\n",
    "print()  # Add newline after streaming\n",
    "\n",
    "# If there was a function call, parse and execute it\n",
    "if is_function_call:\n",
    "    print(\"\\nFunction call arguments:\", function_call_content)\n",
    "    try:\n",
    "        args = json.loads(function_call_content)\n",
    "        \n",
    "        # Process the function call (example implementation)\n",
    "        if args[\"operation\"] == \"add\":\n",
    "            result = args[\"a\"] + args[\"b\"]\n",
    "        elif args[\"operation\"] == \"subtract\":\n",
    "            result = args[\"a\"] - args[\"b\"]\n",
    "        elif args[\"operation\"] == \"multiply\":\n",
    "            result = args[\"a\"] * args[\"b\"]\n",
    "        elif args[\"operation\"] == \"divide\":\n",
    "            result = args[\"a\"] / args[\"b\"]\n",
    "        \n",
    "        print(f\"Function result: {result}\")\n",
    "        \n",
    "        # Continue the conversation with the function result\n",
    "        messages.append({\n",
    "            \"role\": \"assistant\",\n",
    "            \"content\": None,\n",
    "            \"tool_calls\": [{\n",
    "                \"id\": \"call_123\",  # You might want to generate a unique ID here\n",
    "                \"type\": \"function\",\n",
    "                \"function\": {\n",
    "                    \"name\": \"calculate\",\n",
    "                    \"arguments\": function_call_content\n",
    "                }\n",
    "            }]\n",
    "        })\n",
    "        \n",
    "        # Add the function response to the messages\n",
    "        messages.append({\n",
    "            \"role\": \"tool\",\n",
    "            \"tool_call_id\": \"call_123\",\n",
    "            \"content\": str(result)\n",
    "        })\n",
    "        \n",
    "    except json.JSONDecodeError:\n",
    "        print(\"Error: Couldn't parse function arguments as JSON\")\n",
    "else:\n",
    "    # Complete message obtained from stream\n",
    "    complete_message = \"\".join(collected_messages)\n",
    "    print(\"\\nComplete message:\", complete_message)\n",
    "    \n",
    "    # Add the assistant's response to messages for potential follow-up turns\n",
    "    messages.append({\"role\": \"assistant\", \"content\": complete_message})"
   ]
  },
  {
   "cell_type": "code",
   "execution_count": 17,
   "id": "a353efec",
   "metadata": {},
   "outputs": [
    {
     "name": "stdout",
     "output_type": "stream",
     "text": [
      "Hello! How can I assist you today? 😊\n"
     ]
    }
   ],
   "source": [
    "from openai import OpenAI\n",
    "\n",
    "client = OpenAI(\n",
    "  base_url=\"https://openrouter.ai/api/v1\",\n",
    "  api_key=os.getenv(\"OPEN_ROUTER_KEY\"),\n",
    ")\n",
    "\n",
    "completion = client.chat.completions.create(\n",
    "  extra_body={},\n",
    "  model=\"qwen/qwen3-30b-a3b:free\",\n",
    "  messages=[\n",
    "    {\n",
    "      \"role\": \"user\",\n",
    "      \"content\": \"Hello\"\n",
    "    }\n",
    "  ]\n",
    ")\n",
    "print(completion.choices[0].message.content)"
   ]
  },
  {
   "cell_type": "code",
   "execution_count": null,
   "id": "7af59eea",
   "metadata": {},
   "outputs": [
    {
     "data": {
      "text/plain": [
       "ChatCompletion(id='gen-1746197188-K6DkNbpjnotOsra7rid6', choices=[Choice(finish_reason='stop', index=0, logprobs=None, message=ChatCompletionMessage(content='Hello! How can I assist you today? 😊', refusal=None, role='assistant', annotations=None, audio=None, function_call=None, tool_calls=None, reasoning='Okay, the user just said \"Hello\". That\\'s pretty straightforward. I need to respond in a friendly and helpful manner. Let me think about the best way to greet them back.\\n\\nFirst, I should acknowledge their greeting. Maybe say \"Hello!\" to be polite. Then, offer assistance. People often use chatbots to ask questions or get help, so it\\'s good to invite them to ask anything. I should keep it simple and open-ended.\\n\\nWait, the user might be testing the response or just starting a conversation. I should make sure my reply is welcoming. Maybe add an emoji to keep it friendly. Let me check the tone. No need for any markdown, just plain text. Alright, something like \"Hello! How can I assist you today?\" That\\'s friendly and clear.\\n'), native_finish_reason='stop')], created=1746197188, model='qwen/qwen3-30b-a3b:free', object='chat.completion', service_tier=None, system_fingerprint=None, usage=CompletionUsage(completion_tokens=176, prompt_tokens=9, total_tokens=185, completion_tokens_details=None, prompt_tokens_details=None), provider='Chutes')"
      ]
     },
     "execution_count": 18,
     "metadata": {},
     "output_type": "execute_result"
    }
   ],
   "source": [
    "completion"
   ]
  },
  {
   "cell_type": "code",
   "execution_count": null,
   "id": "24792bfc",
   "metadata": {},
   "outputs": [],
   "source": []
  }
 ],
 "metadata": {
  "kernelspec": {
   "display_name": "langgraph-agent-webinar",
   "language": "python",
   "name": "python3"
  },
  "language_info": {
   "codemirror_mode": {
    "name": "ipython",
    "version": 3
   },
   "file_extension": ".py",
   "mimetype": "text/x-python",
   "name": "python",
   "nbconvert_exporter": "python",
   "pygments_lexer": "ipython3",
   "version": "3.11.11"
  }
 },
 "nbformat": 4,
 "nbformat_minor": 5
}
